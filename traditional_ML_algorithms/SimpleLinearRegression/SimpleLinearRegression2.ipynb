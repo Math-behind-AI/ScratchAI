{
  "cells": [
    {
      "cell_type": "code",
      "execution_count": 54,
      "id": "c6739181",
      "metadata": {
        "id": "c6739181"
      },
      "outputs": [],
      "source": [
        "#Importing Libraries\n",
        "import numpy as np\n",
        "import pandas as pd\n",
        "import matplotlib.pyplot as plt"
      ]
    },
    {
      "cell_type": "code",
      "execution_count": 55,
      "id": "4b2e9289",
      "metadata": {
        "colab": {
          "base_uri": "https://localhost:8080/",
          "height": 322
        },
        "id": "4b2e9289",
        "outputId": "ac79a022-6cf0-4269-a211-de3d12390b74"
      },
      "outputs": [
        {
          "output_type": "execute_result",
          "data": {
            "text/plain": [
              "   MODELYEAR   MAKE       MODEL VEHICLECLASS  ENGINESIZE  CYLINDERS  \\\n",
              "0       2014  ACURA         ILX      COMPACT         2.0          4   \n",
              "1       2014  ACURA         ILX      COMPACT         2.4          4   \n",
              "2       2014  ACURA  ILX HYBRID      COMPACT         1.5          4   \n",
              "3       2014  ACURA     MDX 4WD  SUV - SMALL         3.5          6   \n",
              "4       2014  ACURA     RDX AWD  SUV - SMALL         3.5          6   \n",
              "\n",
              "  TRANSMISSION FUELTYPE  FUELCONSUMPTION_CITY  FUELCONSUMPTION_HWY  \\\n",
              "0          AS5        Z                   9.9                  6.7   \n",
              "1           M6        Z                  11.2                  7.7   \n",
              "2          AV7        Z                   6.0                  5.8   \n",
              "3          AS6        Z                  12.7                  9.1   \n",
              "4          AS6        Z                  12.1                  8.7   \n",
              "\n",
              "   FUELCONSUMPTION_COMB  FUELCONSUMPTION_COMB_MPG  CO2EMISSIONS  \n",
              "0                   8.5                        33           196  \n",
              "1                   9.6                        29           221  \n",
              "2                   5.9                        48           136  \n",
              "3                  11.1                        25           255  \n",
              "4                  10.6                        27           244  "
            ],
            "text/html": [
              "\n",
              "  <div id=\"df-10f438dc-2688-4334-9483-61ac44fffe28\">\n",
              "    <div class=\"colab-df-container\">\n",
              "      <div>\n",
              "<style scoped>\n",
              "    .dataframe tbody tr th:only-of-type {\n",
              "        vertical-align: middle;\n",
              "    }\n",
              "\n",
              "    .dataframe tbody tr th {\n",
              "        vertical-align: top;\n",
              "    }\n",
              "\n",
              "    .dataframe thead th {\n",
              "        text-align: right;\n",
              "    }\n",
              "</style>\n",
              "<table border=\"1\" class=\"dataframe\">\n",
              "  <thead>\n",
              "    <tr style=\"text-align: right;\">\n",
              "      <th></th>\n",
              "      <th>MODELYEAR</th>\n",
              "      <th>MAKE</th>\n",
              "      <th>MODEL</th>\n",
              "      <th>VEHICLECLASS</th>\n",
              "      <th>ENGINESIZE</th>\n",
              "      <th>CYLINDERS</th>\n",
              "      <th>TRANSMISSION</th>\n",
              "      <th>FUELTYPE</th>\n",
              "      <th>FUELCONSUMPTION_CITY</th>\n",
              "      <th>FUELCONSUMPTION_HWY</th>\n",
              "      <th>FUELCONSUMPTION_COMB</th>\n",
              "      <th>FUELCONSUMPTION_COMB_MPG</th>\n",
              "      <th>CO2EMISSIONS</th>\n",
              "    </tr>\n",
              "  </thead>\n",
              "  <tbody>\n",
              "    <tr>\n",
              "      <th>0</th>\n",
              "      <td>2014</td>\n",
              "      <td>ACURA</td>\n",
              "      <td>ILX</td>\n",
              "      <td>COMPACT</td>\n",
              "      <td>2.0</td>\n",
              "      <td>4</td>\n",
              "      <td>AS5</td>\n",
              "      <td>Z</td>\n",
              "      <td>9.9</td>\n",
              "      <td>6.7</td>\n",
              "      <td>8.5</td>\n",
              "      <td>33</td>\n",
              "      <td>196</td>\n",
              "    </tr>\n",
              "    <tr>\n",
              "      <th>1</th>\n",
              "      <td>2014</td>\n",
              "      <td>ACURA</td>\n",
              "      <td>ILX</td>\n",
              "      <td>COMPACT</td>\n",
              "      <td>2.4</td>\n",
              "      <td>4</td>\n",
              "      <td>M6</td>\n",
              "      <td>Z</td>\n",
              "      <td>11.2</td>\n",
              "      <td>7.7</td>\n",
              "      <td>9.6</td>\n",
              "      <td>29</td>\n",
              "      <td>221</td>\n",
              "    </tr>\n",
              "    <tr>\n",
              "      <th>2</th>\n",
              "      <td>2014</td>\n",
              "      <td>ACURA</td>\n",
              "      <td>ILX HYBRID</td>\n",
              "      <td>COMPACT</td>\n",
              "      <td>1.5</td>\n",
              "      <td>4</td>\n",
              "      <td>AV7</td>\n",
              "      <td>Z</td>\n",
              "      <td>6.0</td>\n",
              "      <td>5.8</td>\n",
              "      <td>5.9</td>\n",
              "      <td>48</td>\n",
              "      <td>136</td>\n",
              "    </tr>\n",
              "    <tr>\n",
              "      <th>3</th>\n",
              "      <td>2014</td>\n",
              "      <td>ACURA</td>\n",
              "      <td>MDX 4WD</td>\n",
              "      <td>SUV - SMALL</td>\n",
              "      <td>3.5</td>\n",
              "      <td>6</td>\n",
              "      <td>AS6</td>\n",
              "      <td>Z</td>\n",
              "      <td>12.7</td>\n",
              "      <td>9.1</td>\n",
              "      <td>11.1</td>\n",
              "      <td>25</td>\n",
              "      <td>255</td>\n",
              "    </tr>\n",
              "    <tr>\n",
              "      <th>4</th>\n",
              "      <td>2014</td>\n",
              "      <td>ACURA</td>\n",
              "      <td>RDX AWD</td>\n",
              "      <td>SUV - SMALL</td>\n",
              "      <td>3.5</td>\n",
              "      <td>6</td>\n",
              "      <td>AS6</td>\n",
              "      <td>Z</td>\n",
              "      <td>12.1</td>\n",
              "      <td>8.7</td>\n",
              "      <td>10.6</td>\n",
              "      <td>27</td>\n",
              "      <td>244</td>\n",
              "    </tr>\n",
              "  </tbody>\n",
              "</table>\n",
              "</div>\n",
              "      <button class=\"colab-df-convert\" onclick=\"convertToInteractive('df-10f438dc-2688-4334-9483-61ac44fffe28')\"\n",
              "              title=\"Convert this dataframe to an interactive table.\"\n",
              "              style=\"display:none;\">\n",
              "        \n",
              "  <svg xmlns=\"http://www.w3.org/2000/svg\" height=\"24px\"viewBox=\"0 0 24 24\"\n",
              "       width=\"24px\">\n",
              "    <path d=\"M0 0h24v24H0V0z\" fill=\"none\"/>\n",
              "    <path d=\"M18.56 5.44l.94 2.06.94-2.06 2.06-.94-2.06-.94-.94-2.06-.94 2.06-2.06.94zm-11 1L8.5 8.5l.94-2.06 2.06-.94-2.06-.94L8.5 2.5l-.94 2.06-2.06.94zm10 10l.94 2.06.94-2.06 2.06-.94-2.06-.94-.94-2.06-.94 2.06-2.06.94z\"/><path d=\"M17.41 7.96l-1.37-1.37c-.4-.4-.92-.59-1.43-.59-.52 0-1.04.2-1.43.59L10.3 9.45l-7.72 7.72c-.78.78-.78 2.05 0 2.83L4 21.41c.39.39.9.59 1.41.59.51 0 1.02-.2 1.41-.59l7.78-7.78 2.81-2.81c.8-.78.8-2.07 0-2.86zM5.41 20L4 18.59l7.72-7.72 1.47 1.35L5.41 20z\"/>\n",
              "  </svg>\n",
              "      </button>\n",
              "      \n",
              "  <style>\n",
              "    .colab-df-container {\n",
              "      display:flex;\n",
              "      flex-wrap:wrap;\n",
              "      gap: 12px;\n",
              "    }\n",
              "\n",
              "    .colab-df-convert {\n",
              "      background-color: #E8F0FE;\n",
              "      border: none;\n",
              "      border-radius: 50%;\n",
              "      cursor: pointer;\n",
              "      display: none;\n",
              "      fill: #1967D2;\n",
              "      height: 32px;\n",
              "      padding: 0 0 0 0;\n",
              "      width: 32px;\n",
              "    }\n",
              "\n",
              "    .colab-df-convert:hover {\n",
              "      background-color: #E2EBFA;\n",
              "      box-shadow: 0px 1px 2px rgba(60, 64, 67, 0.3), 0px 1px 3px 1px rgba(60, 64, 67, 0.15);\n",
              "      fill: #174EA6;\n",
              "    }\n",
              "\n",
              "    [theme=dark] .colab-df-convert {\n",
              "      background-color: #3B4455;\n",
              "      fill: #D2E3FC;\n",
              "    }\n",
              "\n",
              "    [theme=dark] .colab-df-convert:hover {\n",
              "      background-color: #434B5C;\n",
              "      box-shadow: 0px 1px 3px 1px rgba(0, 0, 0, 0.15);\n",
              "      filter: drop-shadow(0px 1px 2px rgba(0, 0, 0, 0.3));\n",
              "      fill: #FFFFFF;\n",
              "    }\n",
              "  </style>\n",
              "\n",
              "      <script>\n",
              "        const buttonEl =\n",
              "          document.querySelector('#df-10f438dc-2688-4334-9483-61ac44fffe28 button.colab-df-convert');\n",
              "        buttonEl.style.display =\n",
              "          google.colab.kernel.accessAllowed ? 'block' : 'none';\n",
              "\n",
              "        async function convertToInteractive(key) {\n",
              "          const element = document.querySelector('#df-10f438dc-2688-4334-9483-61ac44fffe28');\n",
              "          const dataTable =\n",
              "            await google.colab.kernel.invokeFunction('convertToInteractive',\n",
              "                                                     [key], {});\n",
              "          if (!dataTable) return;\n",
              "\n",
              "          const docLinkHtml = 'Like what you see? Visit the ' +\n",
              "            '<a target=\"_blank\" href=https://colab.research.google.com/notebooks/data_table.ipynb>data table notebook</a>'\n",
              "            + ' to learn more about interactive tables.';\n",
              "          element.innerHTML = '';\n",
              "          dataTable['output_type'] = 'display_data';\n",
              "          await google.colab.output.renderOutput(dataTable, element);\n",
              "          const docLink = document.createElement('div');\n",
              "          docLink.innerHTML = docLinkHtml;\n",
              "          element.appendChild(docLink);\n",
              "        }\n",
              "      </script>\n",
              "    </div>\n",
              "  </div>\n",
              "  "
            ]
          },
          "metadata": {},
          "execution_count": 55
        }
      ],
      "source": [
        "#Importing Data\n",
        "data = pd.read_csv('./FuelConsumption.csv')\n",
        "data.head()"
      ]
    },
    {
      "cell_type": "code",
      "execution_count": 56,
      "id": "d82aa83e",
      "metadata": {
        "colab": {
          "base_uri": "https://localhost:8080/",
          "height": 284
        },
        "id": "d82aa83e",
        "outputId": "6cc27cbb-fc0a-4ae5-9bb7-b11a54e00295"
      },
      "outputs": [
        {
          "output_type": "execute_result",
          "data": {
            "text/plain": [
              "<matplotlib.collections.PathCollection at 0x7ff6e226c750>"
            ]
          },
          "metadata": {},
          "execution_count": 56
        },
        {
          "output_type": "display_data",
          "data": {
            "text/plain": [
              "<Figure size 432x288 with 1 Axes>"
            ],
            "image/png": "[encoded data removed]"
          },
          "metadata": {
            "needs_background": "light"
          }
        }
      ],
      "source": [
        "#Plotting the graph (ENGINESIZE v/s CO2EMISSIONS)\n",
        "plt.scatter(data.ENGINESIZE, data.CO2EMISSIONS, marker = \".\", color = \"#2d4e57\")"
      ]
    },
    {
      "cell_type": "code",
      "execution_count": 57,
      "id": "d4fe112b",
      "metadata": {
        "id": "d4fe112b"
      },
      "outputs": [],
      "source": [
        "#Now to start predicting, we need to fit the model\n",
        "def fitSLR(X,y):\n",
        "    #Preprocessing\n",
        "    X = pd.DataFrame(X)\n",
        "    y = pd.DataFrame(y)\n",
        "    data = pd.concat([X,y], axis=1)\n",
        "    \n",
        "    #Calculating mean for both Target and Feature Variable\n",
        "    meanX = float(X.mean())\n",
        "    meanY = float(y.mean())\n",
        "    \n",
        "    #Calculating `x-mean` and `y-mean` for each data point\n",
        "    data['x-mean'] = X - meanX\n",
        "    data['y-mean'] = y - meanY\n",
        "    \n",
        "    #Also calculating product(`x-mean, y-mean`) and square(x-mean)\n",
        "    data['mul'] = data['x-mean'] * data['y-mean']\n",
        "    data['sq'] = np.power(data['x-mean'], 2)\n",
        "    \n",
        "    #Summation of data['mul'] and data['sq']\n",
        "    sumXY = data['mul'].sum()\n",
        "    sumX = data['sq'].sum()\n",
        "    \n",
        "    #Calculating the coefficients or weights\n",
        "    global b1, b0\n",
        "    b1 = sumXY/sumX\n",
        "    b0 = meanY - b1 * meanX\n",
        "    \n",
        "    #We will be returning the coefficients/weights from this function\n",
        "    return b0, b1"
      ]
    },
    {
      "cell_type": "code",
      "execution_count": 58,
      "id": "23c56837",
      "metadata": {
        "colab": {
          "base_uri": "https://localhost:8080/"
        },
        "id": "23c56837",
        "outputId": "281559ec-8465-483e-9793-21e35b4095ce"
      },
      "outputs": [
        {
          "output_type": "execute_result",
          "data": {
            "text/plain": [
              "(125.30409949535718, 39.12519978671173)"
            ]
          },
          "metadata": {},
          "execution_count": 58
        }
      ],
      "source": [
        "fitSLR(data.ENGINESIZE, data.CO2EMISSIONS)"
      ]
    },
    {
      "cell_type": "code",
      "execution_count": 59,
      "id": "d304d98d",
      "metadata": {
        "id": "d304d98d"
      },
      "outputs": [],
      "source": [
        "#Now that we have fitted the data, we will now have to predict!\n",
        "def predict(X):\n",
        "    predList, y = [], []\n",
        "    for i in range(0, len(X)):\n",
        "        predList.append(X[i])\n",
        "    for i in predList:\n",
        "        itemY = b0 + b1 * i\n",
        "        y.append(itemY)\n",
        "    return y"
      ]
    },
    {
      "cell_type": "code",
      "execution_count": 61,
      "id": "71d56166",
      "metadata": {
        "colab": {
          "base_uri": "https://localhost:8080/"
        },
        "id": "71d56166",
        "outputId": "5bbecf17-c4c5-407a-c96b-63024a03e5e6"
      },
      "outputs": [
        {
          "output_type": "execute_result",
          "data": {
            "text/plain": [
              "[203.55449906878064,\n",
              " 219.20457898346535,\n",
              " 183.99189917542478,\n",
              " 262.24229874884827,\n",
              " 262.24229874884827]"
            ]
          },
          "metadata": {},
          "execution_count": 61
        }
      ],
      "source": [
        "#Let us predict on the first five elements of the dataset, usually there should be train-test-validation dataset,\n",
        "#As this is just a demo, we will be predicting on the given dataset itself!\n",
        "predict(data.ENGINESIZE.head())"
      ]
    },
    {
      "cell_type": "code",
      "execution_count": 64,
      "id": "ffc7bb28",
      "metadata": {
        "colab": {
          "base_uri": "https://localhost:8080/"
        },
        "id": "ffc7bb28",
        "outputId": "8f59dd00-1c26-48f5-c90e-878776e46d6a"
      },
      "outputs": [
        {
          "output_type": "execute_result",
          "data": {
            "text/plain": [
              "0    196\n",
              "1    221\n",
              "2    136\n",
              "3    255\n",
              "4    244\n",
              "Name: CO2EMISSIONS, dtype: int64"
            ]
          },
          "metadata": {},
          "execution_count": 64
        }
      ],
      "source": [
        "#Let us see what is our original values for the same!\n",
        "data.CO2EMISSIONS.head()"
      ]
    },
    {
      "cell_type": "code",
      "execution_count": 67,
      "id": "304735ea",
      "metadata": {
        "id": "304735ea"
      },
      "outputs": [],
      "source": [
        "#Predicting on the whole dataset\n",
        "predList = predict(data.ENGINESIZE)"
      ]
    },
    {
      "cell_type": "code",
      "execution_count": 71,
      "id": "b9042109",
      "metadata": {
        "colab": {
          "base_uri": "https://localhost:8080/",
          "height": 284
        },
        "id": "b9042109",
        "outputId": "6cb78d90-8eb6-48a1-b01e-83ad68614a1e"
      },
      "outputs": [
        {
          "output_type": "execute_result",
          "data": {
            "text/plain": [
              "[<matplotlib.lines.Line2D at 0x7ff6e1fbd310>]"
            ]
          },
          "metadata": {},
          "execution_count": 71
        },
        {
          "output_type": "display_data",
          "data": {
            "text/plain": [
              "<Figure size 432x288 with 1 Axes>"
            ],
            "image/png": "[encoded data removed]"
          },
          "metadata": {
            "needs_background": "light"
          }
        }
      ],
      "source": [
        "plt.scatter(data.ENGINESIZE, data.CO2EMISSIONS, marker='.', color='#2d4e57') #Original Data\n",
        "plt.plot(data.ENGINESIZE, predList, color='r') #Best Fit Line"
      ]
    },
    {
      "cell_type": "code",
      "execution_count": 70,
      "id": "46ab2315",
      "metadata": {
        "id": "46ab2315"
      },
      "outputs": [],
      "source": [
        ""
      ]
    }
  ],
  "metadata": {
    "kernelspec": {
      "display_name": "Python 3",
      "language": "python",
      "name": "python3"
    },
    "language_info": {
      "codemirror_mode": {
        "name": "ipython",
        "version": 3
      },
      "file_extension": ".py",
      "mimetype": "text/x-python",
      "name": "python",
      "nbconvert_exporter": "python",
      "pygments_lexer": "ipython3",
      "version": "3.9.4"
    },
    "colab": {
      "name": "SimpleLinearRegression2.ipynb",
      "provenance": [],
      "collapsed_sections": []
    }
  },
  "nbformat": 4,
  "nbformat_minor": 5
}